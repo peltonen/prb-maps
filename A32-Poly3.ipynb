{
 "cells": [
  {
   "cell_type": "code",
   "execution_count": 3,
   "metadata": {
    "collapsed": false
   },
   "outputs": [],
   "source": [
    "%matplotlib inline\n",
    "\n",
    "import matplotlib\n",
    "import matplotlib.pyplot as plt"
   ]
  },
  {
   "cell_type": "code",
   "execution_count": 4,
   "metadata": {
    "collapsed": false
   },
   "outputs": [],
   "source": [
    "coords = ((0.0, 0.0),\n",
    " (0.0, 25.0),\n",
    " (0.0, 50.0),\n",
    " (0.0, 75.0),\n",
    " (0.0, 100.0),\n",
    " (0.0, 125.0),\n",
    " (0.0, 150.0),\n",
    " (0.0, 175.0),\n",
    " (0.0, 200.0),\n",
    " (0.0, 225.0),\n",
    " (18.0, -12.5),\n",
    " (18.0, 37.5),\n",
    " (18.0, 87.5),\n",
    " (18.0, 137.5),\n",
    " (18.0, 187.5),\n",
    " (18.0, 237.5),\n",
    " (18.0, 262.5),\n",
    " (18.0, 212.5),\n",
    " (18.0, 162.5),\n",
    " (18.0, 112.5),\n",
    " (18.0, 62.5),\n",
    " (18.0, 12.5),\n",
    " (36.0, 225.0),\n",
    " (36.0, 200.0),\n",
    " (36.0, 175.0),\n",
    " (36.0, 150.0),\n",
    " (36.0, 125.0),\n",
    " (36.0, 100.0),\n",
    " (36.0, 75.0),\n",
    " (36.0, 50.0),\n",
    " (36.0, 25.0),\n",
    " (36.0, 0.0))"
   ]
  },
  {
   "cell_type": "code",
   "execution_count": 5,
   "metadata": {
    "collapsed": false
   },
   "outputs": [],
   "source": [
    "chans = range(1,len(coords) + 1) #.prb files are 0-based, probe and connector maps are 1-based"
   ]
  },
  {
   "cell_type": "code",
   "execution_count": 6,
   "metadata": {
    "collapsed": false
   },
   "outputs": [
    {
     "data": {
      "text/plain": [
       "(-130, 170)"
      ]
     },
     "execution_count": 6,
     "metadata": {},
     "output_type": "execute_result"
    },
    {
     "data": {
      "image/png": "[encoded data removed]",
      "text/plain": [
       "<matplotlib.figure.Figure at 0x7d64e10>"
      ]
     },
     "metadata": {},
     "output_type": "display_data"
    }
   ],
   "source": [
    "plt.plot([x for (x,y) in coords],[y for (x,y) in coords],'o')\n",
    "plt.xlim([-130, 170])\n"
   ]
  },
  {
   "cell_type": "code",
   "execution_count": 7,
   "metadata": {
    "collapsed": false
   },
   "outputs": [],
   "source": [
    "#produces pairs of probe site adjacencies from the electrode coordinates in physical space through Delauney tesselation,\n",
    "#subject to a maximum site spacing (in microns) of max_edgelength. \n",
    "import numpy as np\n",
    "import scipy.spatial as spatial\n",
    "\n",
    "def adjacency_from_geometry(coords, channels, max_edgelength = 40, correspondence = None):\n",
    "        \n",
    "    c = np.array(coords)\n",
    "    tess = spatial.Delaunay(coords)\n",
    "    indices, indptr = tess.vertex_neighbor_vertices\n",
    "    adjs = []\n",
    "    for k in range(indices.shape[0]-1):\n",
    "        for j in indptr[indices[k]:indices[k+1]]:\n",
    "            try:\n",
    "                if(spatial.distance.euclidean(c[k], c[j]) < max_edgelength):\n",
    "                    adjs.append((channels[k],channels[j]))\n",
    "            except:\n",
    "                pass\n",
    "    return adjs\n",
    "    "
   ]
  },
  {
   "cell_type": "code",
   "execution_count": 8,
   "metadata": {
    "collapsed": false
   },
   "outputs": [],
   "source": [
    "intan = ['G', 23, 22, 21, 20, 19, 18, 17, 16, 15, 14, 13, 12, 11, 10, 9, 8, 'R', 'R',24, 25, 26,\n",
    "         27, 28, 29, 30, 31, 0, 1, 2, 3, 4, 5, 6, 7, 'G']\n",
    " \n",
    "nexus = ['G',23,25,27,29,31,19,17,21,11,15,13,1,3,5,7,9,'R','R',24,26,28,30,32,20,18,22,12,16,14,2,4,6,\n",
    "         8,10,'G']\n",
    "cor = list(zip(nexus, intan))"
   ]
  },
  {
   "cell_type": "code",
   "execution_count": 9,
   "metadata": {
    "collapsed": false
   },
   "outputs": [],
   "source": [
    "def translate_adjacencies(adjacencies, correspondence=None):\n",
    "    if correspondence is not None:\n",
    "        for i,(x,y) in enumerate(adjacencies):\n",
    "            adjacencies[i] = (translate(x, correspondence), translate(y,correspondence))\n",
    "    return adjacencies\n",
    "\n",
    "def translate(val, correspondence):\n",
    "    return correspondence[[x for (x,y) in correspondence].index(val)][1]"
   ]
  },
  {
   "cell_type": "code",
   "execution_count": 10,
   "metadata": {
    "collapsed": false
   },
   "outputs": [],
   "source": [
    "b = adjacency_from_geometry(coords, chans, 40)\n",
    "b_intan = translate_adjacencies(b, cor)"
   ]
  },
  {
   "cell_type": "code",
   "execution_count": 12,
   "metadata": {
    "collapsed": false
   },
   "outputs": [
    {
     "data": {
      "text/plain": [
       "[(12, 31),\n",
       " (12, 3),\n",
       " (12, 15),\n",
       " (3, 31),\n",
       " (3, 12),\n",
       " (3, 0),\n",
       " (3, 11),\n",
       " (11, 16),\n",
       " (11, 4),\n",
       " (11, 0),\n",
       " (11, 3),\n",
       " (4, 13),\n",
       " (4, 10),\n",
       " (4, 11),\n",
       " (4, 16),\n",
       " (10, 13),\n",
       " (10, 4),\n",
       " (10, 29),\n",
       " (10, 5),\n",
       " (5, 10),\n",
       " (5, 29),\n",
       " (5, 2),\n",
       " (5, 9),\n",
       " (9, 18),\n",
       " (9, 6),\n",
       " (9, 5),\n",
       " (9, 2),\n",
       " (6, 8),\n",
       " (6, 14),\n",
       " (6, 18),\n",
       " (6, 9),\n",
       " (8, 6),\n",
       " (8, 14),\n",
       " (8, 30),\n",
       " (8, 7),\n",
       " (7, 1),\n",
       " (7, 8),\n",
       " (7, 30),\n",
       " (15, 31),\n",
       " (15, 12),\n",
       " (15, 28),\n",
       " (0, 11),\n",
       " (0, 3),\n",
       " (0, 19),\n",
       " (0, 27),\n",
       " (0, 16),\n",
       " (0, 31),\n",
       " (13, 10),\n",
       " (13, 4),\n",
       " (13, 20),\n",
       " (13, 26),\n",
       " (13, 16),\n",
       " (13, 29),\n",
       " (2, 5),\n",
       " (2, 9),\n",
       " (2, 21),\n",
       " (2, 25),\n",
       " (2, 18),\n",
       " (2, 29),\n",
       " (14, 8),\n",
       " (14, 6),\n",
       " (14, 30),\n",
       " (14, 24),\n",
       " (14, 22),\n",
       " (14, 18),\n",
       " (1, 17),\n",
       " (1, 23),\n",
       " (1, 7),\n",
       " (1, 30),\n",
       " (17, 1),\n",
       " (30, 8),\n",
       " (30, 7),\n",
       " (30, 1),\n",
       " (30, 23),\n",
       " (30, 14),\n",
       " (30, 24),\n",
       " (18, 6),\n",
       " (18, 9),\n",
       " (18, 25),\n",
       " (18, 22),\n",
       " (18, 14),\n",
       " (18, 2),\n",
       " (29, 10),\n",
       " (29, 5),\n",
       " (29, 21),\n",
       " (29, 26),\n",
       " (29, 13),\n",
       " (29, 2),\n",
       " (16, 20),\n",
       " (16, 27),\n",
       " (16, 11),\n",
       " (16, 4),\n",
       " (16, 13),\n",
       " (16, 0),\n",
       " (31, 3),\n",
       " (31, 12),\n",
       " (31, 15),\n",
       " (31, 28),\n",
       " (31, 19),\n",
       " (31, 0),\n",
       " (23, 1),\n",
       " (23, 30),\n",
       " (23, 24),\n",
       " (24, 30),\n",
       " (24, 14),\n",
       " (24, 23),\n",
       " (24, 22),\n",
       " (22, 24),\n",
       " (22, 14),\n",
       " (22, 18),\n",
       " (22, 25),\n",
       " (25, 18),\n",
       " (25, 22),\n",
       " (25, 2),\n",
       " (25, 21),\n",
       " (21, 29),\n",
       " (21, 26),\n",
       " (21, 2),\n",
       " (21, 25),\n",
       " (26, 13),\n",
       " (26, 20),\n",
       " (26, 21),\n",
       " (26, 29),\n",
       " (20, 13),\n",
       " (20, 26),\n",
       " (20, 16),\n",
       " (20, 27),\n",
       " (27, 20),\n",
       " (27, 16),\n",
       " (27, 0),\n",
       " (27, 19),\n",
       " (19, 31),\n",
       " (19, 28),\n",
       " (19, 0),\n",
       " (19, 27),\n",
       " (28, 31),\n",
       " (28, 15),\n",
       " (28, 19)]"
      ]
     },
     "execution_count": 12,
     "metadata": {},
     "output_type": "execute_result"
    }
   ],
   "source": [
    "b_intan"
   ]
  },
  {
   "cell_type": "code",
   "execution_count": 2,
   "metadata": {
    "collapsed": true
   },
   "outputs": [],
   "source": [
    "from scipy import spatial\n",
    "def get_graph_from_geometry(geometry):\n",
    "    # let's transform the geometry into lists of channel names and coordinates\n",
    "    chans,coords = zip(*[(ch,xy) for ch,xy in geometry.iteritems()])\n",
    "    # we'll perform the triangulation and extract the\n",
    "    try:\n",
    "        tri = spatial.Delaunay(coords)\n",
    "    except:\n",
    "        x,y = zip(*coords)\n",
    "        coords = list(coords)\n",
    "        coords.append((max(x)+1,max(y)+1))\n",
    "        tri = spatial.Delaunay(coords)\n",
    "    # then build the list of edges from the triangulation\n",
    "    indices, indptr = tri.vertex_neighbor_vertices\n",
    "    edges = []\n",
    "    for k in range(indices.shape[0]-1):\n",
    "        for j in indptr[indices[k]:indices[k+1]]:\n",
    "            try:\n",
    "                edges.append((chans[k],chans[j]))\n",
    "            except IndexError:\n",
    "                # ignore dummy site\n",
    "                pass\n",
    "    return edges\n",
    "\n",
    "def build_geometries(channel_groups):\n",
    "    for gr, group in channel_groups.iteritems():\n",
    "        group['graph'] = get_graph_from_geometry(group['geometry'])\n",
    "    return channel_groups\n",
    "\n",
    "def get_probe_channel_groups(probe):\n",
    "    if probe.DesignType=='Linear':\n",
    "        channel_groups = {}\n",
    "        for shank in range(int(probe.NumShank)):\n",
    "            channel_groups[shank] = {}\n",
    "            sites = shank*int(probe.NumSitePerShank) + np.arange(int(probe.NumSitePerShank))\n",
    "            x_locs = [0.0 for s in sites]\n",
    "            y_locs = [probe.TrueSiteSpacing * s for s in sites]\n",
    "            channel_groups[shank]['channels'] = list(sites)\n",
    "            channel_groups[shank]['geometry'] = {s:(x,y) for s,x,y in zip(sites,x_locs,y_locs)}\n",
    "    return build_geometries(channel_groups)\n",
    "\n",
    "from pprint import pformat\n",
    "def save_probe(channel_groups,name):\n",
    "    with open(name+'.prb', 'w') as f:\n",
    "        f.write('channel_groups = ' + pformat(channel_groups))"
   ]
  },
  {
   "cell_type": "code",
   "execution_count": null,
   "metadata": {
    "collapsed": true
   },
   "outputs": [],
   "source": []
  }
 ],
 "metadata": {
  "kernelspec": {
   "display_name": "Python 3",
   "language": "python",
   "name": "python3"
  },
  "language_info": {
   "codemirror_mode": {
    "name": "ipython",
    "version": 3
   },
   "file_extension": ".py",
   "mimetype": "text/x-python",
   "name": "python",
   "nbconvert_exporter": "python",
   "pygments_lexer": "ipython3",
   "version": "3.6.0"
  }
 },
 "nbformat": 4,
 "nbformat_minor": 0
}
