{
 "cells": [
  {
   "cell_type": "code",
   "execution_count": 14,
   "metadata": {
    "collapsed": false
   },
   "outputs": [],
   "source": [
    "%matplotlib inline\n",
    "\n",
    "import matplotlib\n",
    "import matplotlib.pyplot as plt"
   ]
  },
  {
   "cell_type": "code",
   "execution_count": 15,
   "metadata": {
    "collapsed": false
   },
   "outputs": [],
   "source": [
    "coords = ((0.0, 0.0),\n",
    " (0.0, 25.0),\n",
    " (0.0, 50.0),\n",
    " (0.0, 75.0),\n",
    " (0.0, 100.0),\n",
    " (0.0, 125.0),\n",
    " (0.0, 150.0),\n",
    " (0.0, 175.0),\n",
    " (0.0, 200.0),\n",
    " (0.0, 225.0),\n",
    " (18.0, -12.5),\n",
    " (18.0, 37.5),\n",
    " (18.0, 87.5),\n",
    " (18.0, 137.5),\n",
    " (18.0, 187.5),\n",
    " (18.0, 237.5),\n",
    " (18.0, 262.5),\n",
    " (18.0, 212.5),\n",
    " (18.0, 162.5),\n",
    " (18.0, 112.5),\n",
    " (18.0, 62.5),\n",
    " (18.0, 12.5),\n",
    " (36.0, 225.0),\n",
    " (36.0, 200.0),\n",
    " (36.0, 175.0),\n",
    " (36.0, 150.0),\n",
    " (36.0, 125.0),\n",
    " (36.0, 100.0),\n",
    " (36.0, 75.0),\n",
    " (36.0, 50.0),\n",
    " (36.0, 25.0),\n",
    " (36.0, 0.0))"
   ]
  },
  {
   "cell_type": "code",
   "execution_count": 29,
   "metadata": {
    "collapsed": false
   },
   "outputs": [],
   "source": [
    "chans = range(1,len(coords) + 1) #.prb files are 0-based, probe and connector maps are 1-based"
   ]
  },
  {
   "cell_type": "code",
   "execution_count": 26,
   "metadata": {
    "collapsed": false
   },
   "outputs": [
    {
     "data": {
      "text/plain": [
       "(-130, 170)"
      ]
     },
     "execution_count": 26,
     "metadata": {},
     "output_type": "execute_result"
    },
    {
     "data": {
      "image/png": "[encoded data removed]",
      "text/plain": [
       "<matplotlib.figure.Figure at 0x10f109390>"
      ]
     },
     "metadata": {},
     "output_type": "display_data"
    }
   ],
   "source": [
    "plt.plot([x for (x,y) in coords],[y for (x,y) in coords],'o')\n",
    "plt.xlim([-130, 170])\n"
   ]
  },
  {
   "cell_type": "code",
   "execution_count": 30,
   "metadata": {
    "collapsed": false
   },
   "outputs": [],
   "source": [
    "#produces pairs of probe site adjacencies from the electrode coordinates in physical space through Delauney tesselation,\n",
    "#subject to a maximum site spacing (in microns) of max_edgelength. \n",
    "import numpy as np\n",
    "import scipy.spatial as spatial\n",
    "\n",
    "def adjacency_from_geometry(coords, channels, max_edgelength = 40, correspondence = None):\n",
    "        \n",
    "    c = np.array(coords)\n",
    "    tess = spatial.Delaunay(coords)\n",
    "    indices, indptr = tess.vertex_neighbor_vertices\n",
    "    adjs = []\n",
    "    for k in range(indices.shape[0]-1):\n",
    "        for j in indptr[indices[k]:indices[k+1]]:\n",
    "            try:\n",
    "                if(spatial.distance.euclidean(c[k], c[j]) < max_edgelength):\n",
    "                    adjs.append((channels[k],channels[j]))\n",
    "            except:\n",
    "                pass\n",
    "    return adjs\n",
    "    "
   ]
  },
  {
   "cell_type": "code",
   "execution_count": 31,
   "metadata": {
    "collapsed": false
   },
   "outputs": [],
   "source": [
    "nexus = ['G', 24, 23, 22, 21, 20, 19, 18, 17, 16, 15, 14, 13, 12, 11, 10, 9, 'R', 'R',25, 26, 27, 28, 29, 30, 31, 32, 1, 2, 3, 4, 5, 6, 7, 8]"
   ]
  },
  {
   "cell_type": "code",
   "execution_count": 32,
   "metadata": {
    "collapsed": true
   },
   "outputs": [],
   "source": [
    "intan = ['G',23,25,27,29,31,19,17,21,11,15,13,1,3,5,7,9,'R','R',24,26,28,30,32,20,18,22,12,16,14,2,4,6,8,10,'G']"
   ]
  },
  {
   "cell_type": "code",
   "execution_count": 35,
   "metadata": {
    "collapsed": false
   },
   "outputs": [],
   "source": [
    "def translate_adjacencies(adjacencies, correspondence=None):\n",
    "    if correspondence is not None:\n",
    "        for i,(x,y) in enumerate(adjacencies):\n",
    "            adjacencies[i] = (translate(x, correspondence), translate(y,correspondence))\n",
    "    return adjacencies\n",
    "\n",
    "def translate(val, correspondence):\n",
    "    return correspondence[[x for (x,y) in correspondence].index(val)][1]"
   ]
  },
  {
   "cell_type": "code",
   "execution_count": 36,
   "metadata": {
    "collapsed": false
   },
   "outputs": [],
   "source": [
    "cor = zip(nexus, intan)\n",
    "b = adjacency_from_geometry(coords, chans, 40)"
   ]
  },
  {
   "cell_type": "code",
   "execution_count": 38,
   "metadata": {
    "collapsed": false
   },
   "outputs": [],
   "source": [
    "b_intan = translate_adjacencies(b, cor)"
   ]
  },
  {
   "cell_type": "code",
   "execution_count": 68,
   "metadata": {
    "collapsed": false
   },
   "outputs": [
    {
     "data": {
      "text/plain": [
       "[(11, 24),\n",
       " (11, 13),\n",
       " (11, 14),\n",
       " (13, 24),\n",
       " (13, 11),\n",
       " (13, 12),\n",
       " (13, 16),\n",
       " (16, 28),\n",
       " (16, 2),\n",
       " (16, 12),\n",
       " (16, 13),\n",
       " (2, 1),\n",
       " (2, 6),\n",
       " (2, 16),\n",
       " (2, 28),\n",
       " (6, 1),\n",
       " (6, 2),\n",
       " (6, 32),\n",
       " (6, 10),\n",
       " (10, 6),\n",
       " (10, 32),\n",
       " (10, 15),\n",
       " (10, 7),\n",
       " (7, 18),\n",
       " (7, 9),\n",
       " (7, 10),\n",
       " (7, 15),\n",
       " (9, 8),\n",
       " (9, 5),\n",
       " (9, 18),\n",
       " (9, 7),\n",
       " (8, 9),\n",
       " (8, 5),\n",
       " (8, 19),\n",
       " (8, 4),\n",
       " (4, 29),\n",
       " (4, 8),\n",
       " (4, 19),\n",
       " (14, 24),\n",
       " (14, 11),\n",
       " (14, 22),\n",
       " (12, 16),\n",
       " (12, 13),\n",
       " (12, 27),\n",
       " (12, 17),\n",
       " (12, 28),\n",
       " (12, 24),\n",
       " (1, 6),\n",
       " (1, 2),\n",
       " (1, 31),\n",
       " (1, 22),\n",
       " (1, 28),\n",
       " (1, 32),\n",
       " (15, 10),\n",
       " (15, 7),\n",
       " (15, 20),\n",
       " (15, 30),\n",
       " (15, 18),\n",
       " (15, 32),\n",
       " (5, 8),\n",
       " (5, 9),\n",
       " (5, 19),\n",
       " (5, 23),\n",
       " (5, 26),\n",
       " (5, 18),\n",
       " (29, 21),\n",
       " (29, 25),\n",
       " (29, 4),\n",
       " (29, 19),\n",
       " (21, 29),\n",
       " (19, 8),\n",
       " (19, 4),\n",
       " (19, 29),\n",
       " (19, 25),\n",
       " (19, 5),\n",
       " (19, 23),\n",
       " (18, 9),\n",
       " (18, 7),\n",
       " (18, 30),\n",
       " (18, 26),\n",
       " (18, 5),\n",
       " (18, 15),\n",
       " (32, 6),\n",
       " (32, 10),\n",
       " (32, 20),\n",
       " (32, 22),\n",
       " (32, 1),\n",
       " (32, 15),\n",
       " (28, 31),\n",
       " (28, 17),\n",
       " (28, 16),\n",
       " (28, 2),\n",
       " (28, 1),\n",
       " (28, 12),\n",
       " (24, 13),\n",
       " (24, 11),\n",
       " (24, 14),\n",
       " (24, 22),\n",
       " (24, 27),\n",
       " (24, 12),\n",
       " (25, 29),\n",
       " (25, 19),\n",
       " (25, 23),\n",
       " (23, 19),\n",
       " (23, 5),\n",
       " (23, 25),\n",
       " (23, 26),\n",
       " (26, 23),\n",
       " (26, 5),\n",
       " (26, 18),\n",
       " (26, 30),\n",
       " (30, 18),\n",
       " (30, 26),\n",
       " (30, 15),\n",
       " (30, 20),\n",
       " (20, 32),\n",
       " (20, 22),\n",
       " (20, 15),\n",
       " (20, 30),\n",
       " (22, 1),\n",
       " (22, 31),\n",
       " (22, 20),\n",
       " (22, 32),\n",
       " (31, 1),\n",
       " (31, 22),\n",
       " (31, 28),\n",
       " (31, 17),\n",
       " (17, 31),\n",
       " (17, 28),\n",
       " (17, 12),\n",
       " (17, 27),\n",
       " (27, 24),\n",
       " (27, 22),\n",
       " (27, 12),\n",
       " (27, 17),\n",
       " (22, 24),\n",
       " (22, 14),\n",
       " (22, 27)]"
      ]
     },
     "execution_count": 68,
     "metadata": {},
     "output_type": "execute_result"
    }
   ],
   "source": [
    "b"
   ]
  },
  {
   "cell_type": "code",
   "execution_count": 2,
   "metadata": {
    "collapsed": true
   },
   "outputs": [],
   "source": [
    "from scipy import spatial\n",
    "def get_graph_from_geometry(geometry):\n",
    "    # let's transform the geometry into lists of channel names and coordinates\n",
    "    chans,coords = zip(*[(ch,xy) for ch,xy in geometry.iteritems()])\n",
    "    # we'll perform the triangulation and extract the\n",
    "    try:\n",
    "        tri = spatial.Delaunay(coords)\n",
    "    except:\n",
    "        x,y = zip(*coords)\n",
    "        coords = list(coords)\n",
    "        coords.append((max(x)+1,max(y)+1))\n",
    "        tri = spatial.Delaunay(coords)\n",
    "    # then build the list of edges from the triangulation\n",
    "    indices, indptr = tri.vertex_neighbor_vertices\n",
    "    edges = []\n",
    "    for k in range(indices.shape[0]-1):\n",
    "        for j in indptr[indices[k]:indices[k+1]]:\n",
    "            try:\n",
    "                edges.append((chans[k],chans[j]))\n",
    "            except IndexError:\n",
    "                # ignore dummy site\n",
    "                pass\n",
    "    return edges\n",
    "\n",
    "def build_geometries(channel_groups):\n",
    "    for gr, group in channel_groups.iteritems():\n",
    "        group['graph'] = get_graph_from_geometry(group['geometry'])\n",
    "    return channel_groups\n",
    "\n",
    "def get_probe_channel_groups(probe):\n",
    "    if probe.DesignType=='Linear':\n",
    "        channel_groups = {}\n",
    "        for shank in range(int(probe.NumShank)):\n",
    "            channel_groups[shank] = {}\n",
    "            sites = shank*int(probe.NumSitePerShank) + np.arange(int(probe.NumSitePerShank))\n",
    "            x_locs = [0.0 for s in sites]\n",
    "            y_locs = [probe.TrueSiteSpacing * s for s in sites]\n",
    "            channel_groups[shank]['channels'] = list(sites)\n",
    "            channel_groups[shank]['geometry'] = {s:(x,y) for s,x,y in zip(sites,x_locs,y_locs)}\n",
    "    return build_geometries(channel_groups)\n",
    "\n",
    "from pprint import pformat\n",
    "def save_probe(channel_groups,name):\n",
    "    with open(name+'.prb', 'w') as f:\n",
    "        f.write('channel_groups = ' + pformat(channel_groups))"
   ]
  },
  {
   "cell_type": "code",
   "execution_count": null,
   "metadata": {
    "collapsed": true
   },
   "outputs": [],
   "source": []
  }
 ],
 "metadata": {
  "kernelspec": {
   "display_name": "Python 2",
   "language": "python",
   "name": "python2"
  },
  "language_info": {
   "codemirror_mode": {
    "name": "ipython",
    "version": 2
   },
   "file_extension": ".py",
   "mimetype": "text/x-python",
   "name": "python",
   "nbconvert_exporter": "python",
   "pygments_lexer": "ipython2",
   "version": "2.7.13"
  }
 },
 "nbformat": 4,
 "nbformat_minor": 0
}
