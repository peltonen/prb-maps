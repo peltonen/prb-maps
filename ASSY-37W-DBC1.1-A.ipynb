{
 "cells": [
  {
   "cell_type": "code",
   "execution_count": 11,
   "metadata": {
    "collapsed": false
   },
   "outputs": [],
   "source": [
    "%matplotlib inline\n",
    "\n",
    "import matplotlib\n",
    "import matplotlib.pyplot as plt"
   ]
  },
  {
   "cell_type": "code",
   "execution_count": 7,
   "metadata": {
    "collapsed": false
   },
   "outputs": [],
   "source": [
    "ASSY37WDCB11shank1 = (\n",
    "(0,0),\n",
    "(0,40),\n",
    "(5,80),\n",
    "(10,120),\n",
    "(15,160),\n",
    "(20,200),\n",
    "(25,240),\n",
    "(30,280),\n",
    "(70,20),\n",
    "(65,60),\n",
    "(60, 100),\n",
    "(55, 140),\n",
    "(50,180),\n",
    "(45, 220),\n",
    "(40, 260),\n",
    "(35,305)\n",
    ")\n",
    "shank1_channels = (16,12,8,6,2,3,5,9,15,10,14,13,4,1,7,11)\n",
    "ASSY37WDCB11shank2 = [(x + 250, y) for (x,y) in ASSY37WDCB11shank1]\n",
    "shank2_channels = (17,21,22,25,27,29,28,30,18,23,19,20,24,26,31,32)"
   ]
  },
  {
   "cell_type": "code",
   "execution_count": 13,
   "metadata": {
    "collapsed": false
   },
   "outputs": [
    {
     "data": {
      "text/plain": [
       "[<matplotlib.lines.Line2D at 0x10edf9a10>]"
      ]
     },
     "execution_count": 13,
     "metadata": {},
     "output_type": "execute_result"
    },
    {
     "data": {
      "image/png": "[encoded data removed]",
      "text/plain": [
       "<matplotlib.figure.Figure at 0x10edf9850>"
      ]
     },
     "metadata": {},
     "output_type": "display_data"
    }
   ],
   "source": [
    "plt.plot([x for (x,y) in ASSY37WDCB11shank1],[y for (x,y) in ASSY37WDCB11shank1],'o')\n",
    "plt.plot([x for (x,y) in ASSY37WDCB11shank2],[y for (x,y) in ASSY37WDCB11shank2],'o')\n"
   ]
  },
  {
   "cell_type": "code",
   "execution_count": 6,
   "metadata": {
    "collapsed": false
   },
   "outputs": [],
   "source": [
    "#produces pairs of probe site adjacencies from the electrode coordinates in physical space through Delauney tesselation,\n",
    "#subject to a maximum site spacing (in microns) of max_edgelength. \n",
    "import numpy as np\n",
    "import scipy.spatial as spatial\n",
    "\n",
    "def adjacency_from_geometry(coords, channels, max_edgelength = 40, correspondence = None):\n",
    "        \n",
    "    c = np.array(coords)\n",
    "    tess = spatial.Delaunay(coords)\n",
    "    indices, indptr = tess.vertex_neighbor_vertices\n",
    "    adjs = []\n",
    "    for k in range(indices.shape[0]-1):\n",
    "        for j in indptr[indices[k]:indices[k+1]]:\n",
    "            try:\n",
    "                if(spatial.distance.euclidean(c[k], c[j]) < max_edgelength):\n",
    "                    adjs.append((channels[k],channels[j]))\n",
    "            except:\n",
    "                pass\n",
    "    return adjs\n",
    "    "
   ]
  },
  {
   "cell_type": "code",
   "execution_count": 8,
   "metadata": {
    "collapsed": true
   },
   "outputs": [],
   "source": [
    "a1 = adjacency_from_geometry(ASSY37WDCB11shank1, shank1_channels, 50)"
   ]
  },
  {
   "cell_type": "code",
   "execution_count": 10,
   "metadata": {
    "collapsed": false
   },
   "outputs": [],
   "source": [
    "a2 = adjacency_from_geometry(ASSY37WDCB11shank2, shank2_channels, 50)"
   ]
  },
  {
   "cell_type": "markdown",
   "metadata": {},
   "source": [
    "# Process adjacencies to account for the channel mapping between the probe and the intan board."
   ]
  },
  {
   "cell_type": "code",
   "execution_count": 3,
   "metadata": {
    "collapsed": false
   },
   "outputs": [],
   "source": [
    "nexus = ['G', 24, 23, 22, 21, 20, 19, 18, 17, 16, 15, 14, 13, 12, 11, 10, 9, 'R', 'R',25, 26, 27, 28, 29, 30, 31, 32, 1, 2, 3, 4, 5, 6, 7, 8]"
   ]
  },
  {
   "cell_type": "code",
   "execution_count": 4,
   "metadata": {
    "collapsed": true
   },
   "outputs": [],
   "source": [
    "intan = ['G',23,25,27,29,31,19,17,21,11,15,13,1,3,5,7,9,'R','R',24,26,28,30,32,20,18,22,12,16,14,2,4,6,8,10,'G']"
   ]
  },
  {
   "cell_type": "code",
   "execution_count": 5,
   "metadata": {
    "collapsed": false
   },
   "outputs": [],
   "source": [
    "correspond = zip(nexus, intan)"
   ]
  },
  {
   "cell_type": "code",
   "execution_count": 57,
   "metadata": {
    "collapsed": false
   },
   "outputs": [],
   "source": [
    "def translate_adjacencies(adjacencies, correspondence=None):\n",
    "    if correspondence is not None:\n",
    "        for i,(x,y) in enumerate(adjacencies):\n",
    "            adjacencies[i] = (translate(x, correspondence), translate(y,correspondence))\n",
    "    return adjacencies\n",
    "\n",
    "def translate(val, correspondence):\n",
    "    return correspondence[[x for (x,y) in correspondence].index(val)][1]"
   ]
  },
  {
   "cell_type": "code",
   "execution_count": 69,
   "metadata": {
    "collapsed": false
   },
   "outputs": [
    {
     "data": {
      "text/plain": [
       "[(5, 23),\n",
       " (5, 1),\n",
       " (5, 13),\n",
       " (1, 23),\n",
       " (1, 5),\n",
       " (1, 3),\n",
       " (1, 11),\n",
       " (11, 30),\n",
       " (11, 16),\n",
       " (11, 3),\n",
       " (11, 1),\n",
       " (16, 12),\n",
       " (16, 6),\n",
       " (16, 11),\n",
       " (16, 30),\n",
       " (6, 12),\n",
       " (6, 16),\n",
       " (6, 22),\n",
       " (6, 7),\n",
       " (7, 6),\n",
       " (7, 22),\n",
       " (7, 15),\n",
       " (7, 8),\n",
       " (8, 17),\n",
       " (8, 9),\n",
       " (8, 7),\n",
       " (8, 15),\n",
       " (9, 10),\n",
       " (9, 4),\n",
       " (9, 17),\n",
       " (9, 8),\n",
       " (10, 9),\n",
       " (10, 4),\n",
       " (10, 19),\n",
       " (10, 2),\n",
       " (2, 32),\n",
       " (2, 10),\n",
       " (2, 19),\n",
       " (13, 23),\n",
       " (13, 5),\n",
       " (13, 27),\n",
       " (3, 11),\n",
       " (3, 1),\n",
       " (3, 28),\n",
       " (3, 21),\n",
       " (3, 30),\n",
       " (3, 23),\n",
       " (12, 6),\n",
       " (12, 16),\n",
       " (12, 18),\n",
       " (12, 27),\n",
       " (12, 30),\n",
       " (12, 22),\n",
       " (15, 7),\n",
       " (15, 8),\n",
       " (15, 31),\n",
       " (15, 20),\n",
       " (15, 17),\n",
       " (15, 22),\n",
       " (4, 10),\n",
       " (4, 9),\n",
       " (4, 19),\n",
       " (4, 25),\n",
       " (4, 26),\n",
       " (4, 17),\n",
       " (32, 29),\n",
       " (32, 24),\n",
       " (32, 2),\n",
       " (32, 19),\n",
       " (29, 32),\n",
       " (19, 10),\n",
       " (19, 2),\n",
       " (19, 32),\n",
       " (19, 24),\n",
       " (19, 4),\n",
       " (19, 25),\n",
       " (17, 9),\n",
       " (17, 8),\n",
       " (17, 20),\n",
       " (17, 26),\n",
       " (17, 4),\n",
       " (17, 15),\n",
       " (22, 6),\n",
       " (22, 7),\n",
       " (22, 31),\n",
       " (22, 27),\n",
       " (22, 12),\n",
       " (22, 15),\n",
       " (30, 18),\n",
       " (30, 21),\n",
       " (30, 11),\n",
       " (30, 16),\n",
       " (30, 12),\n",
       " (30, 3),\n",
       " (23, 1),\n",
       " (23, 5),\n",
       " (23, 13),\n",
       " (23, 27),\n",
       " (23, 28),\n",
       " (23, 3),\n",
       " (24, 32),\n",
       " (24, 19),\n",
       " (24, 25),\n",
       " (25, 19),\n",
       " (25, 4),\n",
       " (25, 24),\n",
       " (25, 26),\n",
       " (26, 25),\n",
       " (26, 4),\n",
       " (26, 17),\n",
       " (26, 20),\n",
       " (20, 17),\n",
       " (20, 26),\n",
       " (20, 15),\n",
       " (20, 31),\n",
       " (31, 22),\n",
       " (31, 27),\n",
       " (31, 15),\n",
       " (31, 20),\n",
       " (27, 12),\n",
       " (27, 18),\n",
       " (27, 31),\n",
       " (27, 22),\n",
       " (18, 12),\n",
       " (18, 27),\n",
       " (18, 30),\n",
       " (18, 21),\n",
       " (21, 18),\n",
       " (21, 30),\n",
       " (21, 3),\n",
       " (21, 28),\n",
       " (28, 23),\n",
       " (28, 27),\n",
       " (28, 3),\n",
       " (28, 21),\n",
       " (27, 23),\n",
       " (27, 13),\n",
       " (27, 28)]"
      ]
     },
     "execution_count": 69,
     "metadata": {},
     "output_type": "execute_result"
    }
   ],
   "source": [
    "translate_adjacencies(b, cor)"
   ]
  },
  {
   "cell_type": "code",
   "execution_count": null,
   "metadata": {
    "collapsed": true
   },
   "outputs": [],
   "source": []
  },
  {
   "cell_type": "code",
   "execution_count": 2,
   "metadata": {
    "collapsed": true
   },
   "outputs": [],
   "source": [
    "from scipy import spatial\n",
    "def get_graph_from_geometry(geometry):\n",
    "    # let's transform the geometry into lists of channel names and coordinates\n",
    "    chans,coords = zip(*[(ch,xy) for ch,xy in geometry.iteritems()])\n",
    "    # we'll perform the triangulation and extract the\n",
    "    try:\n",
    "        tri = spatial.Delaunay(coords)\n",
    "    except:\n",
    "        x,y = zip(*coords)\n",
    "        coords = list(coords)\n",
    "        coords.append((max(x)+1,max(y)+1))\n",
    "        tri = spatial.Delaunay(coords)\n",
    "    # then build the list of edges from the triangulation\n",
    "    indices, indptr = tri.vertex_neighbor_vertices\n",
    "    edges = []\n",
    "    for k in range(indices.shape[0]-1):\n",
    "        for j in indptr[indices[k]:indices[k+1]]:\n",
    "            try:\n",
    "                edges.append((chans[k],chans[j]))\n",
    "            except IndexError:\n",
    "                # ignore dummy site\n",
    "                pass\n",
    "    return edges\n",
    "\n",
    "def build_geometries(channel_groups):\n",
    "    for gr, group in channel_groups.iteritems():\n",
    "        group['graph'] = get_graph_from_geometry(group['geometry'])\n",
    "    return channel_groups\n",
    "\n",
    "def get_probe_channel_groups(probe):\n",
    "    if probe.DesignType=='Linear':\n",
    "        channel_groups = {}\n",
    "        for shank in range(int(probe.NumShank)):\n",
    "            channel_groups[shank] = {}\n",
    "            sites = shank*int(probe.NumSitePerShank) + np.arange(int(probe.NumSitePerShank))\n",
    "            x_locs = [0.0 for s in sites]\n",
    "            y_locs = [probe.TrueSiteSpacing * s for s in sites]\n",
    "            channel_groups[shank]['channels'] = list(sites)\n",
    "            channel_groups[shank]['geometry'] = {s:(x,y) for s,x,y in zip(sites,x_locs,y_locs)}\n",
    "    return build_geometries(channel_groups)\n",
    "\n",
    "from pprint import pformat\n",
    "def save_probe(channel_groups,name):\n",
    "    with open(name+'.prb', 'w') as f:\n",
    "        f.write('channel_groups = ' + pformat(channel_groups))"
   ]
  }
 ],
 "metadata": {
  "kernelspec": {
   "display_name": "Python 2",
   "language": "python",
   "name": "python2"
  },
  "language_info": {
   "codemirror_mode": {
    "name": "ipython",
    "version": 2
   },
   "file_extension": ".py",
   "mimetype": "text/x-python",
   "name": "python",
   "nbconvert_exporter": "python",
   "pygments_lexer": "ipython2",
   "version": "2.7.13"
  }
 },
 "nbformat": 4,
 "nbformat_minor": 0
}
