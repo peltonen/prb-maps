{
 "cells": [
  {
   "cell_type": "code",
   "execution_count": 1,
   "metadata": {
    "collapsed": false
   },
   "outputs": [],
   "source": [
    "%matplotlib inline\n",
    "\n",
    "import matplotlib\n",
    "import matplotlib.pyplot as plt"
   ]
  },
  {
   "cell_type": "code",
   "execution_count": 2,
   "metadata": {
    "collapsed": false
   },
   "outputs": [],
   "source": [
    "coords = ((0.0, 0.0),\n",
    " (0.0, 25.0),\n",
    " (0.0, 50.0),\n",
    " (0.0, 75.0),\n",
    " (0.0, 100.0),\n",
    " (0.0, 125.0),\n",
    " (0.0, 150.0),\n",
    " (0.0, 175.0),\n",
    " (0.0, 200.0),\n",
    " (0.0, 225.0),\n",
    " (18.0, -12.5),\n",
    " (18.0, 37.5),\n",
    " (18.0, 87.5),\n",
    " (18.0, 137.5),\n",
    " (18.0, 187.5),\n",
    " (18.0, 237.5),\n",
    " (18.0, 262.5),\n",
    " (18.0, 212.5),\n",
    " (18.0, 162.5),\n",
    " (18.0, 112.5),\n",
    " (18.0, 62.5),\n",
    " (18.0, 12.5),\n",
    " (36.0, 225.0),\n",
    " (36.0, 200.0),\n",
    " (36.0, 175.0),\n",
    " (36.0, 150.0),\n",
    " (36.0, 125.0),\n",
    " (36.0, 100.0),\n",
    " (36.0, 75.0),\n",
    " (36.0, 50.0),\n",
    " (36.0, 25.0),\n",
    " (36.0, 0.0))"
   ]
  },
  {
   "cell_type": "code",
   "execution_count": 3,
   "metadata": {
    "collapsed": false
   },
   "outputs": [],
   "source": [
    "chans = range(1,len(coords) + 1) #.prb files are 0-based, probe and connector maps are 1-based"
   ]
  },
  {
   "cell_type": "code",
   "execution_count": 4,
   "metadata": {
    "collapsed": false
   },
   "outputs": [
    {
     "data": {
      "text/plain": [
       "(-130, 170)"
      ]
     },
     "execution_count": 4,
     "metadata": {},
     "output_type": "execute_result"
    },
    {
     "data": {
      "image/png": "[encoded data removed]",
      "text/plain": [
       "<matplotlib.figure.Figure at 0x83ffa20>"
      ]
     },
     "metadata": {},
     "output_type": "display_data"
    }
   ],
   "source": [
    "plt.plot([x for (x,y) in coords],[y for (x,y) in coords],'o')\n",
    "plt.xlim([-130, 170])\n"
   ]
  },
  {
   "cell_type": "code",
   "execution_count": 5,
   "metadata": {
    "collapsed": false
   },
   "outputs": [],
   "source": [
    "#produces pairs of probe site adjacencies from the electrode coordinates in physical space through Delauney tesselation,\n",
    "#subject to a maximum site spacing (in microns) of max_edgelength. \n",
    "import numpy as np\n",
    "import scipy.spatial as spatial\n",
    "\n",
    "def adjacency_from_geometry(coords, channels, max_edgelength = 40, correspondence = None):\n",
    "        \n",
    "    c = np.array(coords)\n",
    "    tess = spatial.Delaunay(coords)\n",
    "    indices, indptr = tess.vertex_neighbor_vertices\n",
    "    adjs = []\n",
    "    for k in range(indices.shape[0]-1):\n",
    "        for j in indptr[indices[k]:indices[k+1]]:\n",
    "            try:\n",
    "                if(spatial.distance.euclidean(c[k], c[j]) < max_edgelength):\n",
    "                    adjs.append((channels[k],channels[j]))\n",
    "            except:\n",
    "                pass\n",
    "    return adjs\n",
    "    "
   ]
  },
  {
   "cell_type": "code",
   "execution_count": 6,
   "metadata": {
    "collapsed": false
   },
   "outputs": [],
   "source": [
    "def translate_adjacencies(adjacencies, correspondence=None):\n",
    "    if correspondence is not None:\n",
    "        for i,(x,y) in enumerate(adjacencies):\n",
    "            adjacencies[i] = (translate(x, correspondence), translate(y,correspondence))\n",
    "    return adjacencies\n",
    "\n",
    "def translate(val, correspondence):\n",
    "    return [y for (x,y) in correspondence if x == val][0]\n",
    "\n",
    "def geometries(channels, geo):\n",
    "    geometry = {}\n",
    "    for i,ch in enumerate(channels):\n",
    "        geometry[ch] = geo[i]\n",
    "    return geometry"
   ]
  },
  {
   "cell_type": "code",
   "execution_count": 7,
   "metadata": {
    "collapsed": false
   },
   "outputs": [],
   "source": [
    "intan = [19,28,20,27,21,26,22,25,23,24,16,31,18,29,17,30,14,1,13,2,15,0,8,7,9,6,10,5,11,4,12,3]\n",
    " \n",
    "nexus = [i for i in range(1,33)]\n",
    "cor = list(zip(nexus, intan))"
   ]
  },
  {
   "cell_type": "code",
   "execution_count": 14,
   "metadata": {
    "collapsed": false
   },
   "outputs": [],
   "source": [
    "nexus_adj = adjacency_from_geometry(coords, nexus)\n",
    "\n",
    "channel_groups_intan = {}\n",
    "channel_groups_intan[0] = {}\n",
    "channel_groups_intan[0]['channels'] = [translate(ch, cor) for ch in nexus]\n",
    "channel_groups_intan[0]['graph'] = translate_adjacencies(nexus_adj,cor)\n",
    "channel_groups_intan[0]['geometry'] = geometries([translate(ch, cor) for ch in nexus], coords)\n"
   ]
  },
  {
   "cell_type": "code",
   "execution_count": 15,
   "metadata": {
    "collapsed": false
   },
   "outputs": [
    {
     "data": {
      "text/plain": [
       "{0: {'channels': [19,\n",
       "   28,\n",
       "   20,\n",
       "   27,\n",
       "   21,\n",
       "   26,\n",
       "   22,\n",
       "   25,\n",
       "   23,\n",
       "   24,\n",
       "   16,\n",
       "   31,\n",
       "   18,\n",
       "   29,\n",
       "   17,\n",
       "   30,\n",
       "   14,\n",
       "   1,\n",
       "   13,\n",
       "   2,\n",
       "   15,\n",
       "   0,\n",
       "   8,\n",
       "   7,\n",
       "   9,\n",
       "   6,\n",
       "   10,\n",
       "   5,\n",
       "   11,\n",
       "   4,\n",
       "   12,\n",
       "   3],\n",
       "  'geometry': {0: (18.0, 12.5),\n",
       "   1: (18.0, 212.5),\n",
       "   2: (18.0, 112.5),\n",
       "   3: (36.0, 0.0),\n",
       "   4: (36.0, 50.0),\n",
       "   5: (36.0, 100.0),\n",
       "   6: (36.0, 150.0),\n",
       "   7: (36.0, 200.0),\n",
       "   8: (36.0, 225.0),\n",
       "   9: (36.0, 175.0),\n",
       "   10: (36.0, 125.0),\n",
       "   11: (36.0, 75.0),\n",
       "   12: (36.0, 25.0),\n",
       "   13: (18.0, 162.5),\n",
       "   14: (18.0, 262.5),\n",
       "   15: (18.0, 62.5),\n",
       "   16: (18.0, -12.5),\n",
       "   17: (18.0, 187.5),\n",
       "   18: (18.0, 87.5),\n",
       "   19: (0.0, 0.0),\n",
       "   20: (0.0, 50.0),\n",
       "   21: (0.0, 100.0),\n",
       "   22: (0.0, 150.0),\n",
       "   23: (0.0, 200.0),\n",
       "   24: (0.0, 225.0),\n",
       "   25: (0.0, 175.0),\n",
       "   26: (0.0, 125.0),\n",
       "   27: (0.0, 75.0),\n",
       "   28: (0.0, 25.0),\n",
       "   29: (18.0, 137.5),\n",
       "   30: (18.0, 237.5),\n",
       "   31: (18.0, 37.5)},\n",
       "  'graph': [(19, 0),\n",
       "   (19, 28),\n",
       "   (19, 16),\n",
       "   (28, 0),\n",
       "   (28, 19),\n",
       "   (28, 31),\n",
       "   (28, 20),\n",
       "   (20, 15),\n",
       "   (20, 27),\n",
       "   (20, 31),\n",
       "   (20, 28),\n",
       "   (27, 18),\n",
       "   (27, 21),\n",
       "   (27, 20),\n",
       "   (27, 15),\n",
       "   (21, 18),\n",
       "   (21, 27),\n",
       "   (21, 2),\n",
       "   (21, 26),\n",
       "   (26, 21),\n",
       "   (26, 2),\n",
       "   (26, 29),\n",
       "   (26, 22),\n",
       "   (22, 13),\n",
       "   (22, 25),\n",
       "   (22, 26),\n",
       "   (22, 29),\n",
       "   (25, 23),\n",
       "   (25, 17),\n",
       "   (25, 13),\n",
       "   (25, 22),\n",
       "   (23, 25),\n",
       "   (23, 17),\n",
       "   (23, 1),\n",
       "   (23, 24),\n",
       "   (24, 30),\n",
       "   (24, 23),\n",
       "   (24, 1),\n",
       "   (16, 0),\n",
       "   (16, 19),\n",
       "   (16, 3),\n",
       "   (31, 20),\n",
       "   (31, 28),\n",
       "   (31, 12),\n",
       "   (31, 4),\n",
       "   (31, 15),\n",
       "   (31, 0),\n",
       "   (18, 21),\n",
       "   (18, 27),\n",
       "   (18, 11),\n",
       "   (18, 5),\n",
       "   (18, 15),\n",
       "   (18, 2),\n",
       "   (29, 26),\n",
       "   (29, 22),\n",
       "   (29, 10),\n",
       "   (29, 6),\n",
       "   (29, 13),\n",
       "   (29, 2),\n",
       "   (17, 23),\n",
       "   (17, 25),\n",
       "   (17, 1),\n",
       "   (17, 7),\n",
       "   (17, 9),\n",
       "   (17, 13),\n",
       "   (30, 14),\n",
       "   (30, 8),\n",
       "   (30, 24),\n",
       "   (30, 1),\n",
       "   (14, 30),\n",
       "   (1, 23),\n",
       "   (1, 24),\n",
       "   (1, 30),\n",
       "   (1, 8),\n",
       "   (1, 17),\n",
       "   (1, 7),\n",
       "   (13, 25),\n",
       "   (13, 22),\n",
       "   (13, 6),\n",
       "   (13, 9),\n",
       "   (13, 17),\n",
       "   (13, 29),\n",
       "   (2, 21),\n",
       "   (2, 26),\n",
       "   (2, 10),\n",
       "   (2, 5),\n",
       "   (2, 18),\n",
       "   (2, 29),\n",
       "   (15, 11),\n",
       "   (15, 4),\n",
       "   (15, 20),\n",
       "   (15, 27),\n",
       "   (15, 18),\n",
       "   (15, 31),\n",
       "   (0, 28),\n",
       "   (0, 19),\n",
       "   (0, 16),\n",
       "   (0, 3),\n",
       "   (0, 12),\n",
       "   (0, 31),\n",
       "   (8, 30),\n",
       "   (8, 1),\n",
       "   (8, 7),\n",
       "   (7, 1),\n",
       "   (7, 17),\n",
       "   (7, 8),\n",
       "   (7, 9),\n",
       "   (9, 7),\n",
       "   (9, 17),\n",
       "   (9, 13),\n",
       "   (9, 6),\n",
       "   (6, 13),\n",
       "   (6, 9),\n",
       "   (6, 29),\n",
       "   (6, 10),\n",
       "   (10, 2),\n",
       "   (10, 5),\n",
       "   (10, 29),\n",
       "   (10, 6),\n",
       "   (5, 18),\n",
       "   (5, 11),\n",
       "   (5, 10),\n",
       "   (5, 2),\n",
       "   (11, 18),\n",
       "   (11, 5),\n",
       "   (11, 15),\n",
       "   (11, 4),\n",
       "   (4, 11),\n",
       "   (4, 15),\n",
       "   (4, 31),\n",
       "   (4, 12),\n",
       "   (12, 0),\n",
       "   (12, 3),\n",
       "   (12, 31),\n",
       "   (12, 4),\n",
       "   (3, 0),\n",
       "   (3, 16),\n",
       "   (3, 12)]}}"
      ]
     },
     "execution_count": 15,
     "metadata": {},
     "output_type": "execute_result"
    }
   ],
   "source": [
    "channel_groups_intan"
   ]
  },
  {
   "cell_type": "code",
   "execution_count": 2,
   "metadata": {
    "collapsed": true
   },
   "outputs": [],
   "source": []
  },
  {
   "cell_type": "code",
   "execution_count": null,
   "metadata": {
    "collapsed": true
   },
   "outputs": [],
   "source": []
  }
 ],
 "metadata": {
  "kernelspec": {
   "display_name": "Python 3",
   "language": "python",
   "name": "python3"
  },
  "language_info": {
   "codemirror_mode": {
    "name": "ipython",
    "version": 3
   },
   "file_extension": ".py",
   "mimetype": "text/x-python",
   "name": "python",
   "nbconvert_exporter": "python",
   "pygments_lexer": "ipython3",
   "version": "3.6.0"
  }
 },
 "nbformat": 4,
 "nbformat_minor": 0
}
